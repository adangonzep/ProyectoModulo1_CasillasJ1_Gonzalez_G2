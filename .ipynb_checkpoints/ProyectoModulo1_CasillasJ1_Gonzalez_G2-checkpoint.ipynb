{
 "cells": [
  {
   "cell_type": "markdown",
   "metadata": {},
   "source": [
    "___\n",
    "## Tratamiento de aguas residuales\n",
    "\n",
    "\n",
    "Lo que se busca en nuestro problema es que mediante 4 plantas de tratamiento de agua residual minimizar una funcion\n",
    "para que nuestra contaminacion sea de 20 mg/L.\n",
    "\n",
    "### 1.2 Objetivos.\n",
    "> - El proposito de esto es poner a prueba los conocimientos adaquiridos en clase en un problema de la vida real en \n",
    "el cual tenemos que optimizar las plantas de tratamiento.\n",
    "\n",
    "> #### 1.1 Trabajo requerido de la planta para que la contaminacion en las 4 plantas se rebaje a 20mg/L de contaminacion.\n",
    ">  - Fin último de estudio. Se formula atendiendo el propósito global del trabajo. No presenta detalles.\n",
    ">  - Se orienta a la totalidad del trabajo. Tiene que ver con el título del trabajo.\n",
    "> #### 1.2 Objetivos específicos\n",
    ">  - De forma detallada describen cada una de los componentes del trabajo.\n",
    ">  - En conjunto garantizan la consecución del objetivo general.\n",
    "\n",
    "Referencia:\n",
    "- https://es.slideshare.net/rosbur/metodologia-objetivos-generales-y-especficos\n",
    "\n",
    "### 1.3 Modelo que representa el problema.\n",
    "> - Se debe incluir la función a optimizar y las restricciones (en caso de que existan).\n",
    "> - Deducción del modelo. Explicación detallada de las ecuaciones de acuerdo al problema que se quiera resolver o modelo que se quiera representar.\n",
    "> - ¿Qué situación representa el modelo? ¿Cuáles son las limitaciones fundamentales?\n",
    "> - Significado y valor de los parámetros (constantes que aparezcan en el modelo).\n",
    "\n",
    "### 1.4 Solución del problema de optimización.\n",
    "> - Se debe resolver el problema de optimización.\n",
    "> - ¿Condujo el algoritmo de optimización a una solución factible?\n",
    "\n",
    "### 1.5 Visualización de la solución dle problema.\n",
    "> Se deben mostrar gráficas y/o tablas que ilustren de forma adecuada los resultados. No olviden etiquetar los ejes y si se tienen varias curvas en una sola gráfica también etiquetarlas (ojo: que las curvas se puedan diferenciar con colores y estilos de línea).\n",
    "\n",
    "### 1.6 Conclusiones.\n",
    "> Mucho cuidado, las conclusiones no son cualquier cosa. Se debe concluir respecto a los objetivos planteados de acuerdo a los resultados obtenidos.\n",
    "\n",
    "### 1.7 Referencias.\n",
    "> Citar (en formato APA) la bibliografía utilizada."
   ]
  },
  {
   "cell_type": "code",
   "execution_count": 3,
   "metadata": {},
   "outputs": [],
   "source": [
    "import numpy as np\n",
    "import scipy.optimize as opt\n",
    "import matplotlib.pyplot as plt"
   ]
  },
  {
   "cell_type": "code",
   "execution_count": null,
   "metadata": {},
   "outputs": [],
   "source": []
  },
  {
   "cell_type": "code",
   "execution_count": null,
   "metadata": {},
   "outputs": [],
   "source": []
  },
  {
   "cell_type": "markdown",
   "metadata": {},
   "source": [
    "\n",
    "Se muestran los parametros para las 4 plantas de tratamiento descargando la contaminacion a un sistema de rio\n",
    "con la resultante de la concentracion (Ci) para 0 tratamiento. Flujo, removedor y estandares para segmentos\n",
    "del rio tambien se listan: \n",
    "\n",
    "Ciudad|Pi(mg/d)|di($10^{-6}$/mg)|ci(mg/L)|Segmento|Q(L/d)|R|Cs(mg/L)\n",
    ":----|----|----|----|---|----|----|----|\n",
    "1|  1.00x$10^{9}$|2|100|1-3|1.00x$10^{7}$|0.5|20\n",
    "2|  2.00x$10^{9}$|2|40|2-3|5.00x$10^{7}$|0.35|20\n",
    "3|  4.00x$10^{9}$|4|47.3|3-4|1.10x$10^{8}$|0.6|20\n",
    "4|  2.50x$10^{9}$|4|22.5|4-5|2.50x$10^{8}$|. |20\n",
    "\n",
    "\n",
    "\n",
    "**¿Cuanto dinero debe gastar minimo para remover la contaminacion del agua y que llegue a solo 20 mg/L de contaminación?**\n",
    "\n",
    "Nuestra funcional de costo esta dada por:\n",
    "\n",
    " $$\\min_{x_1,\\dots,x_4}d_1P_1x_1++d_2P_2x_2+d_3P_3x_3+d_4P_4x_4$$\n",
    " \n",
    " Sustituida nos da esta ecuacion:\n",
    " \n",
    " $$\\min_{x_1,\\dots,x_4}2x10^{3}x_1+4x10^{3}x_2+16x10^{3}x_3+10x10^{3}x_4$$\n",
    " \n",
    " \n",
    " $$\\min_{x_1,\\dots,x_4}2000x_1+4000x_2+16000x_3+10000x_4$$\n",
    " \n",
    " Donde x es una variable para lo que remueve la planta de tratamiento en la contaminacion de agua\n",
    " \n",
    " \n",
    "Y se nos dan las siguientes restricciones:\n",
    "\n",
    "- $\\frac{(1-x_1)P_1}{Q_{13}}\\leq C_{s1}$\n",
    "\n",
    "\n",
    "- $\\frac{(1-x_2)P_2}{Q_{23}}\\leq C_{s2}$\n",
    "\n",
    "\n",
    "- $\\frac{R_{13}Q_{13}C_1 + R_{23}Q_{23}C_2 + (1-x_3)P_3}{Q_{34}}\\leq C_{s3}$\n",
    "\n",
    "\n",
    "- $\\frac{R_{34}Q_{34}C_3 + (1-x_4)P_4}{Q_{45}}\\leq C_{s4}$\n",
    "\n",
    "\n",
    "- $0 \\leq x_1,x_2,x_3,x_4\\leq 1$\n",
    "\n"
   ]
  },
  {
   "cell_type": "code",
   "execution_count": 18,
   "metadata": {},
   "outputs": [],
   "source": [
    "c = np.array([2000,4000,16000,10000])\n",
    "A = np.array([[1,0,0,0],\n",
    "             [0,1,0,0],\n",
    "             [0,0,1,0],\n",
    "             [0,0,0,1]])\n",
    "b = np.array([.8,.7,.8,.9])\n",
    "\n",
    "xi_bounds = (0,1)"
   ]
  },
  {
   "cell_type": "code",
   "execution_count": 19,
   "metadata": {},
   "outputs": [
    {
     "data": {
      "text/plain": [
       "     con: array([], dtype=float64)\n",
       "     fun: 0.0\n",
       " message: 'The solution was determined in presolve as there are no non-trivial constraints.'\n",
       "     nit: 0\n",
       "   slack: array([0.8, 0.7, 0.8, 0.9])\n",
       "  status: 0\n",
       " success: True\n",
       "       x: array([0., 0., 0., 0.])"
      ]
     },
     "execution_count": 19,
     "metadata": {},
     "output_type": "execute_result"
    }
   ],
   "source": [
    "sol = opt.linprog(c,A_ub=A,b_ub=b,bounds=xi_bounds)\n",
    "sol"
   ]
  },
  {
   "cell_type": "markdown",
   "metadata": {},
   "source": [
    "\n",
    "\n",
    "### 2.3 Presentación.\n",
    "> Recuerden que la nota del proyecto es mitad el trabajo, y mitad la presentación. Deben hacer una presentación en power point para presentar el trabajo en la clase del lunes 24 de junio. La presentación, además de llevar todos los componentes básicos descritos en el entregable, debe llevar una tabla de contenido.\n",
    "> - Presentación: 10 minutos.\n",
    "> - Seguir estas recomendaciones: https://es.slideshare.net/MeireComputacion/power-point-pautas-para-una-buen-trabajo"
   ]
  },
  {
   "cell_type": "markdown",
   "metadata": {},
   "source": [
    "<script>\n",
    "  $(document).ready(function(){\n",
    "    $('div.prompt').hide();\n",
    "    $('div.back-to-top').hide();\n",
    "    $('nav#menubar').hide();\n",
    "    $('.breadcrumb').hide();\n",
    "    $('.hidden-print').hide();\n",
    "  });\n",
    "</script>\n",
    "\n",
    "<footer id=\"attribution\" style=\"float:right; color:#808080; background:#fff;\">\n",
    "Created with Jupyter by Cristian Camilo Zapata Zuluaga.\n",
    "</footer>"
   ]
  }
 ],
 "metadata": {
  "kernelspec": {
   "display_name": "Python 3",
   "language": "python",
   "name": "python3"
  },
  "language_info": {
   "codemirror_mode": {
    "name": "ipython",
    "version": 3
   },
   "file_extension": ".py",
   "mimetype": "text/x-python",
   "name": "python",
   "nbconvert_exporter": "python",
   "pygments_lexer": "ipython3",
   "version": "3.7.3"
  }
 },
 "nbformat": 4,
 "nbformat_minor": 2
}
